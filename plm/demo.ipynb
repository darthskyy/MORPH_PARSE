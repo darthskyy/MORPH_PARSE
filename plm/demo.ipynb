{
 "cells": [
  {
   "cell_type": "code",
   "execution_count": 3,
   "metadata": {},
   "outputs": [
    {
     "data": {
      "application/vnd.jupyter.widget-view+json": {
       "model_id": "db61e93368824804a61693c7837a26c4",
       "version_major": 2,
       "version_minor": 0
      },
      "text/plain": [
       "config.json:   0%|          | 0.00/615 [00:00<?, ?B/s]"
      ]
     },
     "metadata": {},
     "output_type": "display_data"
    },
    {
     "name": "stderr",
     "output_type": "stream",
     "text": [
      "c:\\Users\\simba\\AppData\\Local\\Programs\\Python\\Python311\\Lib\\site-packages\\huggingface_hub\\file_download.py:149: UserWarning: `huggingface_hub` cache-system uses symlinks by default to efficiently store duplicated files but your machine does not support them in C:\\Users\\simba\\.cache\\huggingface\\hub\\models--xlm-roberta-base. Caching files will still work but in a degraded version that might require more space on your disk. This warning can be disabled by setting the `HF_HUB_DISABLE_SYMLINKS_WARNING` environment variable. For more details, see https://huggingface.co/docs/huggingface_hub/how-to-cache#limitations.\n",
      "To support symlinks on Windows, you either need to activate Developer Mode or to run Python as an administrator. In order to see activate developer mode, see this article: https://docs.microsoft.com/en-us/windows/apps/get-started/enable-your-device-for-development\n",
      "  warnings.warn(message)\n"
     ]
    },
    {
     "data": {
      "application/vnd.jupyter.widget-view+json": {
       "model_id": "360a05ff2b2948bda6a15a6a556e1e5a",
       "version_major": 2,
       "version_minor": 0
      },
      "text/plain": [
       "model.safetensors:   0%|          | 0.00/1.12G [00:00<?, ?B/s]"
      ]
     },
     "metadata": {},
     "output_type": "display_data"
    },
    {
     "name": "stderr",
     "output_type": "stream",
     "text": [
      "Some weights of the model checkpoint at xlm-roberta-base were not used when initializing XLMRobertaForMaskedLM: ['roberta.pooler.dense.bias', 'roberta.pooler.dense.weight']\n",
      "- This IS expected if you are initializing XLMRobertaForMaskedLM from the checkpoint of a model trained on another task or with another architecture (e.g. initializing a BertForSequenceClassification model from a BertForPreTraining model).\n",
      "- This IS NOT expected if you are initializing XLMRobertaForMaskedLM from the checkpoint of a model that you expect to be exactly identical (initializing a BertForSequenceClassification model from a BertForSequenceClassification model).\n"
     ]
    }
   ],
   "source": [
    "from transformers import AutoModelForMaskedLM\n",
    "\n",
    "model_checkpoint = \"xlm-roberta-base\"\n",
    "model = AutoModelForMaskedLM.from_pretrained(model_checkpoint)"
   ]
  },
  {
   "cell_type": "code",
   "execution_count": 6,
   "metadata": {},
   "outputs": [
    {
     "name": "stdout",
     "output_type": "stream",
     "text": [
      "XLM-R Base has 278.295186M parameters \n"
     ]
    }
   ],
   "source": [
    "xlmr_params = model.num_parameters()\n",
    "print(f\"XLM-R Base has {xlmr_params/1000000}M parameters \")"
   ]
  },
  {
   "cell_type": "code",
   "execution_count": 18,
   "metadata": {},
   "outputs": [],
   "source": [
    "text = \"I am a <mask>\""
   ]
  },
  {
   "cell_type": "code",
   "execution_count": 16,
   "metadata": {},
   "outputs": [],
   "source": [
    "from transformers import AutoTokenizer\n",
    "\n",
    "tokenizer = AutoTokenizer.from_pretrained(model_checkpoint)"
   ]
  },
  {
   "cell_type": "code",
   "execution_count": 19,
   "metadata": {},
   "outputs": [
    {
     "name": "stdout",
     "output_type": "stream",
     "text": [
      "'>>> Ben 10 has a secret that allows him to transform into aliens.'\n",
      "'>>> Ben 10 has a system that allows him to transform into aliens.'\n",
      "'>>> Ben 10 has a weapon that allows him to transform into aliens.'\n",
      "'>>> Ben 10 has a skill that allows him to transform into aliens.'\n",
      "'>>> Ben 10 has a technology that allows him to transform into aliens.'\n"
     ]
    }
   ],
   "source": [
    "import torch\n",
    "\n",
    "inputs = tokenizer(text, return_tensors=\"pt\")\n",
    "token_logits = model(**inputs).logits\n",
    "\n",
    "mask_token_index = torch.where(inputs[\"input_ids\"] == tokenizer.mask_token_id)[1]\n",
    "mask_token_logits = token_logits[0, mask_token_index, :]\n",
    "\n",
    "top_5_tokens = torch.topk(mask_token_logits, 5, dim=1).indices[0].tolist()\n",
    "\n",
    "for token in top_5_tokens:\n",
    "    print(f\"'>>> {text.replace(tokenizer.mask_token, tokenizer.decode([token]))}'\")"
   ]
  },
  {
   "cell_type": "code",
   "execution_count": 36,
   "metadata": {},
   "outputs": [
    {
     "data": {
      "text/plain": [
       "{'NR': DatasetDict({\n",
       "     TRAIN: Dataset({\n",
       "         features: ['word', 'seg', 'parse'],\n",
       "         num_rows: 44663\n",
       "     })\n",
       "     TEST: Dataset({\n",
       "         features: ['word', 'seg', 'parse'],\n",
       "         num_rows: 5026\n",
       "     })\n",
       " }),\n",
       " 'SS': DatasetDict({\n",
       "     TRAIN: Dataset({\n",
       "         features: ['word', 'seg', 'parse'],\n",
       "         num_rows: 42596\n",
       "     })\n",
       "     TEST: Dataset({\n",
       "         features: ['word', 'seg', 'parse'],\n",
       "         num_rows: 4789\n",
       "     })\n",
       " }),\n",
       " 'XH': DatasetDict({\n",
       "     TRAIN: Dataset({\n",
       "         features: ['word', 'seg', 'parse'],\n",
       "         num_rows: 43825\n",
       "     })\n",
       "     TEST: Dataset({\n",
       "         features: ['word', 'seg', 'parse'],\n",
       "         num_rows: 4910\n",
       "     })\n",
       " }),\n",
       " 'ZU': DatasetDict({\n",
       "     TRAIN: Dataset({\n",
       "         features: ['word', 'seg', 'parse'],\n",
       "         num_rows: 44142\n",
       "     })\n",
       "     TEST: Dataset({\n",
       "         features: ['word', 'seg', 'parse'],\n",
       "         num_rows: 4955\n",
       "     })\n",
       " })}"
      ]
     },
     "execution_count": 36,
     "metadata": {},
     "output_type": "execute_result"
    }
   ],
   "source": [
    "from datasets import load_dataset, Dataset, DatasetDict, Features, Value\n",
    "import os, csv\n",
    "import pandas as pd\n",
    "\n",
    "data_dir = \"../data\"\n",
    "langs = [\"NR\",\"SS\",\"XH\",\"ZU\"]\n",
    "datasets = {}\n",
    "\n",
    "for lang in langs:\n",
    "    lang_set = {\n",
    "        \"TRAIN\": Dataset.from_pandas(\n",
    "            pd.read_csv(f\"../data/TRAIN/{lang}_TRAIN.tsv\", delimiter=\"\\t\", quoting=csv.QUOTE_NONE)\n",
    "        ),\n",
    "        \"TEST\": Dataset.from_pandas(\n",
    "            pd.read_csv(f\"../data/TEST/{lang}_TEST.tsv\", delimiter=\"\\t\", quoting=csv.QUOTE_NONE)\n",
    "        ),\n",
    "    }\n",
    "\n",
    "    datasets[lang] = DatasetDict(lang_set)\n",
    "\n",
    "datasets"
   ]
  },
  {
   "cell_type": "code",
   "execution_count": null,
   "metadata": {},
   "outputs": [],
   "source": []
  }
 ],
 "metadata": {
  "kernelspec": {
   "display_name": "Python 3",
   "language": "python",
   "name": "python3"
  },
  "language_info": {
   "codemirror_mode": {
    "name": "ipython",
    "version": 3
   },
   "file_extension": ".py",
   "mimetype": "text/x-python",
   "name": "python",
   "nbconvert_exporter": "python",
   "pygments_lexer": "ipython3",
   "version": "3.11.1"
  }
 },
 "nbformat": 4,
 "nbformat_minor": 2
}
