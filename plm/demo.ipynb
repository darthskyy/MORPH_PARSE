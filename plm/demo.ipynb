{
 "cells": [
  {
   "cell_type": "code",
   "execution_count": 2,
   "metadata": {},
   "outputs": [
    {
     "data": {
      "text/plain": [
       "{'TRAIN':               word                                            parsed  \\\n",
       " 0        Ukwengeza  u[NPrePre15]-ku[BPre15]-engez[VRoot]-a[VerbTerm]   \n",
       " 1                ,                                           ,[Punc]   \n",
       " 2         umthetho               u[NPrePre3]-mu[BPre3]-thetho[NStem]   \n",
       " 3          wenziwe         u[SC3]-enz[VRoot]-iw[PassExt]-e[VerbTerm]   \n",
       " 4         mayelana                                   mayelana[NStem]   \n",
       " ...            ...                                               ...   \n",
       " 44658   liqedelela                li[SC5]-qedelel[VRoot]-a[VerbTerm]   \n",
       " 44659  amakontraga             a[NPrePre6]-ma[BPre6]-kontraga[NStem]   \n",
       " 44660        kanye                           ka[AdvPre]-nye[AdjStem]   \n",
       " 44661  namabhajedi               na[AdvPre]-ma[BPre6]-bhajedi[NStem]   \n",
       " 44662            .                                           .[Punc]   \n",
       " \n",
       "             morpheme                              tag  \n",
       " 0       u_ku_engez_a  NPrePre15_BPre15_VRoot_VerbTerm  \n",
       " 1                  ,                             Punc  \n",
       " 2        u_mu_thetho             NPrePre3_BPre3_NStem  \n",
       " 3         u_enz_iw_e       SC3_VRoot_PassExt_VerbTerm  \n",
       " 4           mayelana                            NStem  \n",
       " ...              ...                              ...  \n",
       " 44658   li_qedelel_a               SC5_VRoot_VerbTerm  \n",
       " 44659  a_ma_kontraga             NPrePre6_BPre6_NStem  \n",
       " 44660         ka_nye                   AdvPre_AdjStem  \n",
       " 44661  na_ma_bhajedi               AdvPre_BPre6_NStem  \n",
       " 44662              .                             Punc  \n",
       " \n",
       " [44663 rows x 4 columns],\n",
       " 'TEST':                    word                                             parsed  \\\n",
       " 0           Kunemihlobo  ku[LocPre]-na[AdvPre]-i[NPrePre4]-mi[BPre4]-hl...   \n",
       " 1     eyahlukahlukeneko  e[LocPre]-ya[Pres]-hlukahlukene[NStem]-ko[RelSuf]   \n",
       " 2              yelawulo                        ye[PossConc4]-lawulo[NStem]   \n",
       " 3          lephrojekthi       le[Dem7][Pos1]-i[NPrePre4]-phrojekthi[NStem]   \n",
       " 4              ekorweni                  e[LocPre]-koro[NStem]-eni[LocSuf]   \n",
       " ...                 ...                                                ...   \n",
       " 5021    ezikhambelanako  ezi[RelConc10]-khambelan[VRoot]-a[VerbTerm]-ko...   \n",
       " 5022      ukuqinisekisa  u[NPrePre15]-ku[BPre15]-qinis[VRoot]-ek[NeutEx...   \n",
       " 5023       ukuphumelela  u[NPrePre15]-ku[BPre15]-phumelel[VRoot]-a[Verb...   \n",
       " 5024              kwayo                      kwa[PossConc15]-yo[PronStem9]   \n",
       " 5025                  .                                            .[Punc]   \n",
       " \n",
       "                   morpheme                                              tag  \n",
       " 0         ku_na_i_mi_hlobo               LocPre_AdvPre_NPrePre4_BPre4_NStem  \n",
       " 1     e_ya_hlukahlukene_ko                         LocPre_Pres_NStem_RelSuf  \n",
       " 2                ye_lawulo                                  PossConc4_NStem  \n",
       " 3          le_i_phrojekthi                         Dem7_Pos1_NPrePre4_NStem  \n",
       " 4               e_koro_eni                              LocPre_NStem_LocSuf  \n",
       " ...                    ...                                              ...  \n",
       " 5021    ezi_khambelan_a_ko                  RelConc10_VRoot_VerbTerm_RelSuf  \n",
       " 5022    u_ku_qinis_ek_is_a  NPrePre15_BPre15_VRoot_NeutExt_CausExt_VerbTerm  \n",
       " 5023       u_ku_phumelel_a                  NPrePre15_BPre15_VRoot_VerbTerm  \n",
       " 5024                kwa_yo                             PossConc15_PronStem9  \n",
       " 5025                     .                                             Punc  \n",
       " \n",
       " [5026 rows x 4 columns]}"
      ]
     },
     "execution_count": 2,
     "metadata": {},
     "output_type": "execute_result"
    }
   ],
   "source": [
    "from datasets import load_dataset, Dataset, DatasetDict, Features, Value\n",
    "import os, csv\n",
    "import pandas as pd\n",
    "import numpy as np\n",
    "\n",
    "data_dir = \"../data\"\n",
    "langs = [\"NR\",\"SS\",\"XH\",\"ZU\"]\n",
    "datasets = {}\n",
    "\n",
    "lang = \"NR\"\n",
    "column_names = [\"word\", \"parsed\", \"morpheme\", \"tag\"]\n",
    "lang_set = {\n",
    "    \"TRAIN\": pd.read_csv(f\"../data/TRAIN/{lang}_TRAIN.tsv\", delimiter=\"\\t\", quoting=csv.QUOTE_NONE, names=column_names)\n",
    "    ,\n",
    "    \"TEST\": pd.read_csv(f\"../data/TEST/{lang}_TEST.tsv\", delimiter=\"\\t\", quoting=csv.QUOTE_NONE, names=column_names,)\n",
    "    ,\n",
    "}\n",
    "\n",
    "datasets[lang] = lang_set\n",
    "lang_set"
   ]
  },
  {
   "cell_type": "code",
   "execution_count": 3,
   "metadata": {},
   "outputs": [
    {
     "name": "stdout",
     "output_type": "stream",
     "text": [
      "loaded the datasets\n"
     ]
    }
   ],
   "source": [
    "print(\"loaded the datasets\")"
   ]
  },
  {
   "cell_type": "code",
   "execution_count": 4,
   "metadata": {},
   "outputs": [],
   "source": [
    "mappings = {}\n",
    "mappings_r = {}\n",
    "count = 0\n",
    "def extract_tag(seq: str) -> str:\n",
    "    global mappings, count\n",
    "    seq = seq.split(\"_\")\n",
    "    for i, tag in enumerate(seq):\n",
    "        if tag not in mappings.keys():\n",
    "            mappings[tag] = count\n",
    "            mappings_r[count] = tag\n",
    "            count+=1\n",
    "        seq[i] = mappings[tag]\n",
    "    return seq"
   ]
  },
  {
   "cell_type": "code",
   "execution_count": 5,
   "metadata": {},
   "outputs": [
    {
     "data": {
      "text/plain": [
       "{'NR': {'TRAIN':               word                                            parsed  \\\n",
       "  0        Ukwengeza  u[NPrePre15]-ku[BPre15]-engez[VRoot]-a[VerbTerm]   \n",
       "  1                ,                                           ,[Punc]   \n",
       "  2         umthetho               u[NPrePre3]-mu[BPre3]-thetho[NStem]   \n",
       "  3          wenziwe         u[SC3]-enz[VRoot]-iw[PassExt]-e[VerbTerm]   \n",
       "  4         mayelana                                   mayelana[NStem]   \n",
       "  ...            ...                                               ...   \n",
       "  44658   liqedelela                li[SC5]-qedelel[VRoot]-a[VerbTerm]   \n",
       "  44659  amakontraga             a[NPrePre6]-ma[BPre6]-kontraga[NStem]   \n",
       "  44660        kanye                           ka[AdvPre]-nye[AdjStem]   \n",
       "  44661  namabhajedi               na[AdvPre]-ma[BPre6]-bhajedi[NStem]   \n",
       "  44662            .                                           .[Punc]   \n",
       "  \n",
       "                  morpheme               tag  \n",
       "  0      [u, ku, engez, a]  [19, 20, 13, 15]  \n",
       "  1                    [,]              [16]  \n",
       "  2        [u, mu, thetho]       [28, 29, 4]  \n",
       "  3        [u, enz, iw, e]  [94, 13, 31, 15]  \n",
       "  4             [mayelana]               [4]  \n",
       "  ...                  ...               ...  \n",
       "  44658   [li, qedelel, a]      [69, 13, 15]  \n",
       "  44659  [a, ma, kontraga]       [39, 40, 4]  \n",
       "  44660          [ka, nye]           [1, 52]  \n",
       "  44661  [na, ma, bhajedi]        [1, 40, 4]  \n",
       "  44662                [.]              [16]  \n",
       "  \n",
       "  [44663 rows x 4 columns],\n",
       "  'TEST':                    word                                             parsed  \\\n",
       "  0           Kunemihlobo  ku[LocPre]-na[AdvPre]-i[NPrePre4]-mi[BPre4]-hl...   \n",
       "  1     eyahlukahlukeneko  e[LocPre]-ya[Pres]-hlukahlukene[NStem]-ko[RelSuf]   \n",
       "  2              yelawulo                        ye[PossConc4]-lawulo[NStem]   \n",
       "  3          lephrojekthi       le[Dem7][Pos1]-i[NPrePre4]-phrojekthi[NStem]   \n",
       "  4              ekorweni                  e[LocPre]-koro[NStem]-eni[LocSuf]   \n",
       "  ...                 ...                                                ...   \n",
       "  5021    ezikhambelanako  ezi[RelConc10]-khambelan[VRoot]-a[VerbTerm]-ko...   \n",
       "  5022      ukuqinisekisa  u[NPrePre15]-ku[BPre15]-qinis[VRoot]-ek[NeutEx...   \n",
       "  5023       ukuphumelela  u[NPrePre15]-ku[BPre15]-phumelel[VRoot]-a[Verb...   \n",
       "  5024              kwayo                      kwa[PossConc15]-yo[PronStem9]   \n",
       "  5025                  .                                            .[Punc]   \n",
       "  \n",
       "                         morpheme                       tag  \n",
       "  0        [ku, na, i, mi, hlobo]           [0, 1, 2, 3, 4]  \n",
       "  1     [e, ya, hlukahlukene, ko]              [0, 5, 4, 6]  \n",
       "  2                  [ye, lawulo]                    [7, 4]  \n",
       "  3           [le, i, phrojekthi]              [8, 9, 2, 4]  \n",
       "  4                [e, koro, eni]                [0, 4, 10]  \n",
       "  ...                         ...                       ...  \n",
       "  5021    [ezi, khambelan, a, ko]           [91, 13, 15, 6]  \n",
       "  5022  [u, ku, qinis, ek, is, a]  [19, 20, 13, 99, 14, 15]  \n",
       "  5023       [u, ku, phumelel, a]          [19, 20, 13, 15]  \n",
       "  5024                  [kwa, yo]                 [55, 118]  \n",
       "  5025                        [.]                      [16]  \n",
       "  \n",
       "  [5026 rows x 4 columns]}}"
      ]
     },
     "execution_count": 5,
     "metadata": {},
     "output_type": "execute_result"
    }
   ],
   "source": [
    "\n",
    "for item in [\"TEST\", \"TRAIN\"]:\n",
    "    df = datasets[lang][item]\n",
    "    df['morpheme'] = df['morpheme'].apply(lambda x: x.split(\"_\"))\n",
    "    df['tag'] = df['tag'].apply(lambda x: extract_tag(x))\n",
    "\n",
    "datasets"
   ]
  },
  {
   "cell_type": "code",
   "execution_count": null,
   "metadata": {},
   "outputs": [],
   "source": [
    "print(\"mapped the input\")"
   ]
  },
  {
   "cell_type": "code",
   "execution_count": 7,
   "metadata": {},
   "outputs": [
    {
     "ename": "KeyError",
     "evalue": "'SS'",
     "output_type": "error",
     "traceback": [
      "\u001b[1;31m---------------------------------------------------------------------------\u001b[0m",
      "\u001b[1;31mKeyError\u001b[0m                                  Traceback (most recent call last)",
      "Cell \u001b[1;32mIn[7], line 2\u001b[0m\n\u001b[0;32m      1\u001b[0m lang_set \u001b[38;5;241m=\u001b[39m {\n\u001b[1;32m----> 2\u001b[0m     \u001b[38;5;124m\"\u001b[39m\u001b[38;5;124mtrain\u001b[39m\u001b[38;5;124m\"\u001b[39m: Dataset\u001b[38;5;241m.\u001b[39mfrom_pandas(\u001b[43mdatasets\u001b[49m\u001b[43m[\u001b[49m\u001b[43mlang\u001b[49m\u001b[43m]\u001b[49m[\u001b[38;5;124m\"\u001b[39m\u001b[38;5;124mTRAIN\u001b[39m\u001b[38;5;124m\"\u001b[39m]),\n\u001b[0;32m      3\u001b[0m     \u001b[38;5;124m\"\u001b[39m\u001b[38;5;124mtest\u001b[39m\u001b[38;5;124m\"\u001b[39m: Dataset\u001b[38;5;241m.\u001b[39mfrom_pandas(datasets[lang][\u001b[38;5;124m\"\u001b[39m\u001b[38;5;124mTEST\u001b[39m\u001b[38;5;124m\"\u001b[39m]),\n\u001b[0;32m      4\u001b[0m }\n\u001b[0;32m      6\u001b[0m datasets[lang] \u001b[38;5;241m=\u001b[39m DatasetDict(lang_set)\n",
      "\u001b[1;31mKeyError\u001b[0m: 'SS'"
     ]
    }
   ],
   "source": [
    "\n",
    "lang_set = {\n",
    "    \"train\": Dataset.from_pandas(datasets[lang][\"TRAIN\"]),\n",
    "    \"test\": Dataset.from_pandas(datasets[lang][\"TEST\"]),\n",
    "}\n",
    "\n",
    "datasets[lang] = DatasetDict(lang_set)"
   ]
  },
  {
   "cell_type": "code",
   "execution_count": 8,
   "metadata": {},
   "outputs": [
    {
     "name": "stdout",
     "output_type": "stream",
     "text": [
      "datasets created\n"
     ]
    },
    {
     "data": {
      "text/plain": [
       "{'NR': DatasetDict({\n",
       "     train: Dataset({\n",
       "         features: ['word', 'parsed', 'morpheme', 'tag'],\n",
       "         num_rows: 44663\n",
       "     })\n",
       "     test: Dataset({\n",
       "         features: ['word', 'parsed', 'morpheme', 'tag'],\n",
       "         num_rows: 5026\n",
       "     })\n",
       " })}"
      ]
     },
     "execution_count": 8,
     "metadata": {},
     "output_type": "execute_result"
    }
   ],
   "source": [
    "print(\"datasets created\")\n",
    "datasets"
   ]
  },
  {
   "cell_type": "code",
   "execution_count": null,
   "metadata": {},
   "outputs": [],
   "source": [
    "from transformers import XLMRobertaTokenizerFast\n",
    "checkpoint = \"xlm-roberta-base\"\n",
    "tokenizer = XLMRobertaTokenizerFast.from_pretrained(checkpoint)"
   ]
  },
  {
   "cell_type": "code",
   "execution_count": null,
   "metadata": {},
   "outputs": [],
   "source": [
    "for i in range(10):\n",
    "    example_text = datasets[\"NR\"][\"train\"][i]\n",
    "    t_input = tokenizer(example_text[\"morpheme\"], is_split_into_words=True)\n",
    "    print(len(example_text[\"tag\"]), len(t_input[\"input_ids\"]), len(t_input.word_ids()))"
   ]
  },
  {
   "cell_type": "code",
   "execution_count": null,
   "metadata": {},
   "outputs": [],
   "source": [
    "def tokenize_and_align(example, label_all_tokens = True):\n",
    "    tokenized_input = tokenizer(example[\"morpheme\"], truncation=True, is_split_into_words=True)\n",
    "    labels = []\n",
    "\n",
    "    for i, label in enumerate(example[\"tag\"]):\n",
    "        word_ids = tokenized_input.word_ids(batch_index=i)\n",
    "\n",
    "        previous_word_idx = None\n",
    "        label_ids = []\n",
    "\n",
    "        for word_idx in word_ids:\n",
    "            if word_idx is None:\n",
    "                label_ids.append(-100)\n",
    "            elif word_idx != previous_word_idx:\n",
    "                label_ids.append(label[word_idx])\n",
    "            else:\n",
    "                label_ids.append(label[word_idx] if label_all_tokens else -100)\n",
    "            previous_word_idx = word_idx\n",
    "        \n",
    "        labels.append(label_ids)\n",
    "    \n",
    "    tokenized_input[\"labels\"] = labels\n",
    "    return tokenized_input"
   ]
  },
  {
   "cell_type": "code",
   "execution_count": null,
   "metadata": {},
   "outputs": [],
   "source": [
    "tokenized_dataset = datasets[\"NR\"].map(tokenize_and_align, batched=True)"
   ]
  },
  {
   "cell_type": "code",
   "execution_count": null,
   "metadata": {},
   "outputs": [],
   "source": [
    "from transformers import AutoModelForTokenClassification\n",
    "\n",
    "model = AutoModelForTokenClassification.from_pretrained(checkpoint, num_labels=len(mappings))"
   ]
  },
  {
   "cell_type": "code",
   "execution_count": null,
   "metadata": {},
   "outputs": [],
   "source": [
    "from transformers import TrainingArguments\n",
    "\n",
    "args = TrainingArguments(\n",
    "    output_dir=\"test-parse\",\n",
    "    evaluation_strategy=\"epoch\",\n",
    "    learning_rate=2e-5,\n",
    "    per_device_train_batch_size=16,\n",
    "    per_device_eval_batch_size=16,\n",
    "    num_train_epochs=1,\n",
    "    weight_decay=0.01\n",
    ")"
   ]
  },
  {
   "cell_type": "code",
   "execution_count": null,
   "metadata": {},
   "outputs": [],
   "source": [
    "from transformers import DataCollatorForTokenClassification\n",
    "data_collator = DataCollatorForTokenClassification(tokenizer)"
   ]
  },
  {
   "cell_type": "code",
   "execution_count": null,
   "metadata": {},
   "outputs": [],
   "source": [
    "labels = [\"_-\"+mappings_r[i] for i in example_text[\"tag\"]]\n",
    "labels, example_text[\"tag\"]"
   ]
  },
  {
   "cell_type": "code",
   "execution_count": null,
   "metadata": {},
   "outputs": [],
   "source": [
    "import seqeval\n",
    "from datasets import load_metric\n",
    "import seqeval.metrics\n",
    "\n",
    "metric = load_metric(\"seqeval\")\n",
    "\n",
    "metric.compute(predictions=[labels], references=[labels])\n",
    "# seqeval.metrics.precision_score([labels],[labels])"
   ]
  },
  {
   "cell_type": "code",
   "execution_count": null,
   "metadata": {},
   "outputs": [],
   "source": [
    "import numpy as np\n",
    "def compute_metrics(eval_preds):\n",
    "    pred_logits, labels = eval_preds\n",
    "    pred_logits = np.argmax(pred_logits, axis=2)\n",
    "\n",
    "    predictions = [\n",
    "        [\"_-\"+mappings_r[eval_preds] for (eval_preds, l) in zip(prediction, label) if l != -100] for prediction, label in zip(pred_logits, labels)\n",
    "    ]\n",
    "\n",
    "    true_labels = [\n",
    "        [\"_-\"+mappings_r[l] for (eval_preds, l) in zip(prediction, label) if l != -100] for prediction, label in zip(pred_logits, labels)\n",
    "    ]\n",
    "\n",
    "    results = metric.compute(predictions=predictions, references=true_labels)\n",
    "\n",
    "    return {\n",
    "        \"precision\": results[\"overall_precision\"],\n",
    "        \"recall\": results[\"overall_recall\"],\n",
    "        \"f1\": results[\"overall_f1\"] ,\n",
    "        \"accuracy\": results[\"overall_accuracy\"],\n",
    "    }"
   ]
  },
  {
   "cell_type": "code",
   "execution_count": null,
   "metadata": {},
   "outputs": [],
   "source": [
    "from transformers import Trainer\n",
    "\n",
    "trainer = Trainer(\n",
    "    model=model,\n",
    "    args=args,\n",
    "    train_dataset=tokenized_dataset[\"train\"],\n",
    "    eval_dataset=tokenized_dataset[\"test\"],\n",
    "    data_collator=data_collator,\n",
    "    tokenizer=tokenizer,\n",
    "    compute_metrics=compute_metrics\n",
    ")"
   ]
  },
  {
   "cell_type": "code",
   "execution_count": null,
   "metadata": {},
   "outputs": [],
   "source": [
    "trainer.train()"
   ]
  },
  {
   "cell_type": "code",
   "execution_count": null,
   "metadata": {},
   "outputs": [],
   "source": [
    "model.save_pretrained(\"parse_model\")\n",
    "tokenizer.save_pretrained(\"tokenizer\")"
   ]
  },
  {
   "cell_type": "code",
   "execution_count": null,
   "metadata": {},
   "outputs": [],
   "source": [
    "import json\n",
    "\n",
    "config = json.load(open(\"parse_model/config.json\"))\n",
    "config[\"id2label\"] = mappings\n",
    "config[\"label2id\"] = mappings_r\n",
    "\n",
    "json.dump(config, open(\"parse_model/config.json\", \"w\"))"
   ]
  }
 ],
 "metadata": {
  "kernelspec": {
   "display_name": "Python 3",
   "language": "python",
   "name": "python3"
  },
  "language_info": {
   "codemirror_mode": {
    "name": "ipython",
    "version": 3
   },
   "file_extension": ".py",
   "mimetype": "text/x-python",
   "name": "python",
   "nbconvert_exporter": "python",
   "pygments_lexer": "ipython3",
   "version": "3.12.3"
  }
 },
 "nbformat": 4,
 "nbformat_minor": 2
}
