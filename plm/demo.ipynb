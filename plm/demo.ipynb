{
 "cells": [
  {
   "cell_type": "code",
   "execution_count": 2,
   "metadata": {},
   "outputs": [
    {
     "name": "stderr",
     "output_type": "stream",
     "text": [
      "Some weights of the model checkpoint at xlm-roberta-base were not used when initializing XLMRobertaForMaskedLM: ['roberta.pooler.dense.bias', 'roberta.pooler.dense.weight']\n",
      "- This IS expected if you are initializing XLMRobertaForMaskedLM from the checkpoint of a model trained on another task or with another architecture (e.g. initializing a BertForSequenceClassification model from a BertForPreTraining model).\n",
      "- This IS NOT expected if you are initializing XLMRobertaForMaskedLM from the checkpoint of a model that you expect to be exactly identical (initializing a BertForSequenceClassification model from a BertForSequenceClassification model).\n"
     ]
    }
   ],
   "source": [
    "from transformers import AutoModelForMaskedLM\n",
    "\n",
    "model_checkpoint = \"xlm-roberta-base\"\n",
    "model = AutoModelForMaskedLM.from_pretrained(model_checkpoint)"
   ]
  },
  {
   "cell_type": "code",
   "execution_count": 3,
   "metadata": {},
   "outputs": [
    {
     "name": "stdout",
     "output_type": "stream",
     "text": [
      "XLM-R Base has 278.295186M parameters \n"
     ]
    }
   ],
   "source": [
    "xlmr_params = model.num_parameters()\n",
    "print(f\"XLM-R Base has {xlmr_params/1000000}M parameters \")"
   ]
  },
  {
   "cell_type": "code",
   "execution_count": 4,
   "metadata": {},
   "outputs": [],
   "source": [
    "text = \"I am a <mask>\""
   ]
  },
  {
   "cell_type": "code",
   "execution_count": 5,
   "metadata": {},
   "outputs": [],
   "source": [
    "from transformers import AutoTokenizer\n",
    "\n",
    "tokenizer = AutoTokenizer.from_pretrained(model_checkpoint)"
   ]
  },
  {
   "cell_type": "code",
   "execution_count": 6,
   "metadata": {},
   "outputs": [
    {
     "name": "stdout",
     "output_type": "stream",
     "text": [
      "'>>> I am a woman'\n",
      "'>>> I am a girl'\n",
      "'>>> I am a blogger'\n",
      "'>>> I am a female'\n",
      "'>>> I am a lesbian'\n"
     ]
    }
   ],
   "source": [
    "import torch\n",
    "\n",
    "inputs = tokenizer(text, return_tensors=\"pt\")\n",
    "token_logits = model(**inputs).logits\n",
    "\n",
    "mask_token_index = torch.where(inputs[\"input_ids\"] == tokenizer.mask_token_id)[1]\n",
    "mask_token_logits = token_logits[0, mask_token_index, :]\n",
    "\n",
    "top_5_tokens = torch.topk(mask_token_logits, 5, dim=1).indices[0].tolist()\n",
    "\n",
    "for token in top_5_tokens:\n",
    "    print(f\"'>>> {text.replace(tokenizer.mask_token, tokenizer.decode([token]))}'\")"
   ]
  },
  {
   "cell_type": "code",
   "execution_count": 7,
   "metadata": {},
   "outputs": [
    {
     "data": {
      "text/plain": [
       "{'NR': DatasetDict({\n",
       "     TRAIN: Dataset({\n",
       "         features: ['word', 'seg', 'parse'],\n",
       "         num_rows: 44663\n",
       "     })\n",
       "     TEST: Dataset({\n",
       "         features: ['word', 'seg', 'parse'],\n",
       "         num_rows: 5026\n",
       "     })\n",
       " }),\n",
       " 'SS': DatasetDict({\n",
       "     TRAIN: Dataset({\n",
       "         features: ['word', 'seg', 'parse'],\n",
       "         num_rows: 42596\n",
       "     })\n",
       "     TEST: Dataset({\n",
       "         features: ['word', 'seg', 'parse'],\n",
       "         num_rows: 4789\n",
       "     })\n",
       " }),\n",
       " 'XH': DatasetDict({\n",
       "     TRAIN: Dataset({\n",
       "         features: ['word', 'seg', 'parse'],\n",
       "         num_rows: 43825\n",
       "     })\n",
       "     TEST: Dataset({\n",
       "         features: ['word', 'seg', 'parse'],\n",
       "         num_rows: 4910\n",
       "     })\n",
       " }),\n",
       " 'ZU': DatasetDict({\n",
       "     TRAIN: Dataset({\n",
       "         features: ['word', 'seg', 'parse'],\n",
       "         num_rows: 44142\n",
       "     })\n",
       "     TEST: Dataset({\n",
       "         features: ['word', 'seg', 'parse'],\n",
       "         num_rows: 4955\n",
       "     })\n",
       " })}"
      ]
     },
     "execution_count": 7,
     "metadata": {},
     "output_type": "execute_result"
    }
   ],
   "source": [
    "from datasets import load_dataset, Dataset, DatasetDict, Features, Value\n",
    "import os, csv\n",
    "import pandas as pd\n",
    "\n",
    "data_dir = \"../data\"\n",
    "langs = [\"NR\",\"SS\",\"XH\",\"ZU\"]\n",
    "datasets = {}\n",
    "\n",
    "for lang in langs:\n",
    "    lang_set = {\n",
    "        \"TRAIN\": Dataset.from_pandas(\n",
    "            pd.read_csv(f\"../data/TRAIN/{lang}_TRAIN.tsv\", delimiter=\"\\t\", quoting=csv.QUOTE_NONE)\n",
    "        ),\n",
    "        \"TEST\": Dataset.from_pandas(\n",
    "            pd.read_csv(f\"../data/TEST/{lang}_TEST.tsv\", delimiter=\"\\t\", quoting=csv.QUOTE_NONE)\n",
    "        ),\n",
    "    }\n",
    "\n",
    "    datasets[lang] = DatasetDict(lang_set)\n",
    "\n",
    "datasets"
   ]
  },
  {
   "cell_type": "code",
   "execution_count": 28,
   "metadata": {},
   "outputs": [
    {
     "name": "stdout",
     "output_type": "stream",
     "text": [
      "[0, 6, 4, 2]\n",
      "<s>,</s>\n"
     ]
    }
   ],
   "source": [
    "def tokenize_function(examples):\n",
    "    result = tokenizer(examples[\"seg\"])\n",
    "    if tokenizer.is_fast:\n",
    "        result[\"word_ids\"] = [result.word_ids(i) for i in range(len(result[\"input_ids\"]))]\n",
    "    return result\n",
    "\n",
    "\n",
    "x = tokenizer.encode(datasets[\"NR\"][\"TRAIN\"][\"word\"][1])\n",
    "print(x)\n",
    "print(tokenizer.decode(x))\n",
    "\n",
    "# Use batched=True to activate fast multithreading!\n",
    "# tokenized_datasets = datasets[\"NR\"].map(\n",
    "#     tokenize_function, batched=True, remove_columns=[\"word\", \"seg\", \"parse\"]\n",
    "# )\n",
    "# tokenized_datasets"
   ]
  }
 ],
 "metadata": {
  "kernelspec": {
   "display_name": "Python 3",
   "language": "python",
   "name": "python3"
  },
  "language_info": {
   "codemirror_mode": {
    "name": "ipython",
    "version": 3
   },
   "file_extension": ".py",
   "mimetype": "text/x-python",
   "name": "python",
   "nbconvert_exporter": "python",
   "pygments_lexer": "ipython3",
   "version": "3.11.1"
  }
 },
 "nbformat": 4,
 "nbformat_minor": 2
}
