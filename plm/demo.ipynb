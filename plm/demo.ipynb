{
 "cells": [
  {
   "cell_type": "code",
   "execution_count": null,
   "metadata": {},
   "outputs": [],
   "source": [
    "from datasets import load_dataset, Dataset, DatasetDict, Features, Value\n",
    "import os, csv\n",
    "import pandas as pd\n",
    "import numpy as np\n",
    "\n",
    "data_dir = \"../data\"\n",
    "langs = [\"NR\",\"SS\",\"XH\",\"ZU\"]\n",
    "datasets = {}\n",
    "\n",
    "column_names = [\"word\", \"parsed\", \"morpheme\", \"tag\"]\n",
    "for lang in langs:\n",
    "    lang_set = {\n",
    "        \"TRAIN\": pd.read_csv(f\"../data/TRAIN/{lang}_TRAIN.tsv\", delimiter=\"\\t\", quoting=csv.QUOTE_NONE, names=column_names)\n",
    "        ,\n",
    "        \"TEST\": pd.read_csv(f\"../data/TEST/{lang}_TEST.tsv\", delimiter=\"\\t\", quoting=csv.QUOTE_NONE, names=column_names,)\n",
    "        ,\n",
    "    }\n",
    "\n",
    "    datasets[lang] = lang_set"
   ]
  },
  {
   "cell_type": "code",
   "execution_count": null,
   "metadata": {},
   "outputs": [],
   "source": [
    "print(\"loaded the datasets\")"
   ]
  },
  {
   "cell_type": "code",
   "execution_count": null,
   "metadata": {},
   "outputs": [],
   "source": [
    "mappings = {}\n",
    "mappings_r = {}\n",
    "count = 0\n",
    "def extract_tag(seq: str) -> str:\n",
    "    global mappings, count\n",
    "    seq = seq.split(\"_\")\n",
    "    for i, tag in enumerate(seq):\n",
    "        if tag not in mappings.keys():\n",
    "            mappings[tag] = count\n",
    "            mappings_r[count] = tag\n",
    "            count+=1\n",
    "        seq[i] = mappings[tag]\n",
    "    return seq"
   ]
  },
  {
   "cell_type": "code",
   "execution_count": null,
   "metadata": {},
   "outputs": [],
   "source": [
    "for lang in langs:\n",
    "    for item in [\"TEST\", \"TRAIN\"]:\n",
    "        df = datasets[lang][item]\n",
    "        df['morpheme'] = df['morpheme'].apply(lambda x: x.split(\"_\"))\n",
    "        df['tag'] = df['tag'].apply(lambda x: extract_tag(x))\n",
    "\n",
    "datasets"
   ]
  },
  {
   "cell_type": "code",
   "execution_count": null,
   "metadata": {},
   "outputs": [],
   "source": [
    "print(\"mapped the input\")"
   ]
  },
  {
   "cell_type": "code",
   "execution_count": null,
   "metadata": {},
   "outputs": [],
   "source": [
    "for lang in langs:\n",
    "    lang_set = {\n",
    "        \"train\": Dataset.from_pandas(datasets[lang][\"TRAIN\"]),\n",
    "        \"test\": Dataset.from_pandas(datasets[lang][\"TEST\"]),\n",
    "    }\n",
    "\n",
    "    datasets[lang] = DatasetDict(lang_set)"
   ]
  },
  {
   "cell_type": "code",
   "execution_count": null,
   "metadata": {},
   "outputs": [],
   "source": [
    "print(\"datasets created\")\n",
    "datasets"
   ]
  },
  {
   "cell_type": "code",
   "execution_count": null,
   "metadata": {},
   "outputs": [],
   "source": [
    "from transformers import XLMRobertaTokenizerFast\n",
    "checkpoint = \"xlm-roberta-base\"\n",
    "tokenizer = XLMRobertaTokenizerFast.from_pretrained(checkpoint)"
   ]
  },
  {
   "cell_type": "code",
   "execution_count": null,
   "metadata": {},
   "outputs": [],
   "source": [
    "for i in range(10):\n",
    "    example_text = datasets[\"NR\"][\"train\"][i]\n",
    "    t_input = tokenizer(example_text[\"morpheme\"], is_split_into_words=True)\n",
    "    print(len(example_text[\"tag\"]), len(t_input[\"input_ids\"]), len(t_input.word_ids()))"
   ]
  },
  {
   "cell_type": "code",
   "execution_count": null,
   "metadata": {},
   "outputs": [],
   "source": [
    "def tokenize_and_align(example, label_all_tokens = True):\n",
    "    tokenized_input = tokenizer(example[\"morpheme\"], truncation=True, is_split_into_words=True)\n",
    "    labels = []\n",
    "\n",
    "    for i, label in enumerate(example[\"tag\"]):\n",
    "        word_ids = tokenized_input.word_ids(batch_index=i)\n",
    "\n",
    "        previous_word_idx = None\n",
    "        label_ids = []\n",
    "\n",
    "        for word_idx in word_ids:\n",
    "            if word_idx is None:\n",
    "                label_ids.append(-100)\n",
    "            elif word_idx != previous_word_idx:\n",
    "                label_ids.append(label[word_idx])\n",
    "            else:\n",
    "                label_ids.append(label[word_idx] if label_all_tokens else -100)\n",
    "            previous_word_idx = word_idx\n",
    "        \n",
    "        labels.append(label_ids)\n",
    "    \n",
    "    tokenized_input[\"labels\"] = labels\n",
    "    return tokenized_input"
   ]
  },
  {
   "cell_type": "code",
   "execution_count": null,
   "metadata": {},
   "outputs": [],
   "source": [
    "tokenized_dataset = datasets[\"NR\"].map(tokenize_and_align, batched=True)"
   ]
  },
  {
   "cell_type": "code",
   "execution_count": null,
   "metadata": {},
   "outputs": [],
   "source": [
    "from transformers import AutoModelForTokenClassification\n",
    "\n",
    "model = AutoModelForTokenClassification.from_pretrained(checkpoint, num_labels=len(mappings))"
   ]
  },
  {
   "cell_type": "code",
   "execution_count": null,
   "metadata": {},
   "outputs": [],
   "source": [
    "from transformers import TrainingArguments\n",
    "\n",
    "args = TrainingArguments(\n",
    "    output_dir=\"test-parse\",\n",
    "    evaluation_strategy=\"epoch\",\n",
    "    learning_rate=2e-5,\n",
    "    per_device_train_batch_size=16,\n",
    "    per_device_eval_batch_size=16,\n",
    "    num_train_epochs=1,\n",
    "    weight_decay=0.01\n",
    ")"
   ]
  },
  {
   "cell_type": "code",
   "execution_count": null,
   "metadata": {},
   "outputs": [],
   "source": [
    "from transformers import DataCollatorForTokenClassification\n",
    "data_collator = DataCollatorForTokenClassification(tokenizer)"
   ]
  },
  {
   "cell_type": "code",
   "execution_count": null,
   "metadata": {},
   "outputs": [],
   "source": [
    "labels = [\"_-\"+mappings_r[i] for i in example_text[\"tag\"]]\n",
    "labels, example_text[\"tag\"]"
   ]
  },
  {
   "cell_type": "code",
   "execution_count": null,
   "metadata": {},
   "outputs": [],
   "source": [
    "import seqeval\n",
    "from datasets import load_metric\n",
    "import seqeval.metrics\n",
    "\n",
    "metric = load_metric(\"seqeval\")\n",
    "\n",
    "metric.compute(predictions=[labels], references=[labels])\n",
    "# seqeval.metrics.precision_score([labels],[labels])"
   ]
  },
  {
   "cell_type": "code",
   "execution_count": null,
   "metadata": {},
   "outputs": [],
   "source": [
    "import numpy as np\n",
    "def compute_metrics(eval_preds):\n",
    "    pred_logits, labels = eval_preds\n",
    "    pred_logits = np.argmax(pred_logits, axis=2)\n",
    "\n",
    "    predictions = [\n",
    "        [\"_-\"+mappings_r[eval_preds] for (eval_preds, l) in zip(prediction, label) if l != -100] for prediction, label in zip(pred_logits, labels)\n",
    "    ]\n",
    "\n",
    "    true_labels = [\n",
    "        [\"_-\"+mappings_r[l] for (eval_preds, l) in zip(prediction, label) if l != -100] for prediction, label in zip(pred_logits, labels)\n",
    "    ]\n",
    "\n",
    "    results = metric.compute(predictions=predictions, references=true_labels)\n",
    "\n",
    "    return {\n",
    "        \"precision\": results[\"overall_precision\"],\n",
    "        \"recall\": results[\"overall_recall\"],\n",
    "        \"f1\": results[\"overall_f1\"] ,\n",
    "        \"accuracy\": results[\"overall_accuracy\"],\n",
    "    }"
   ]
  },
  {
   "cell_type": "code",
   "execution_count": null,
   "metadata": {},
   "outputs": [],
   "source": [
    "from transformers import Trainer\n",
    "\n",
    "trainer = Trainer(\n",
    "    model=model,\n",
    "    args=args,\n",
    "    train_dataset=tokenized_dataset[\"train\"],\n",
    "    eval_dataset=tokenized_dataset[\"test\"],\n",
    "    data_collator=data_collator,\n",
    "    tokenizer=tokenizer,\n",
    "    compute_metrics=compute_metrics\n",
    ")"
   ]
  },
  {
   "cell_type": "code",
   "execution_count": null,
   "metadata": {},
   "outputs": [],
   "source": [
    "trainer.train()"
   ]
  },
  {
   "cell_type": "code",
   "execution_count": null,
   "metadata": {},
   "outputs": [],
   "source": [
    "model.save_pretrained(\"parse_model\")\n",
    "tokenizer.save_pretrained(\"tokenizer\")"
   ]
  },
  {
   "cell_type": "code",
   "execution_count": null,
   "metadata": {},
   "outputs": [],
   "source": [
    "import json\n",
    "\n",
    "config = json.load(open(\"parse_model/config.json\"))\n",
    "config[\"id2label\"] = mappings\n",
    "config[\"label2id\"] = mappings_r\n",
    "\n",
    "json.dump(config, open(\"parse_model/config.json\", \"w\"))"
   ]
  }
 ],
 "metadata": {
  "kernelspec": {
   "display_name": "Python 3",
   "language": "python",
   "name": "python3"
  },
  "language_info": {
   "codemirror_mode": {
    "name": "ipython",
    "version": 3
   },
   "file_extension": ".py",
   "mimetype": "text/x-python",
   "name": "python",
   "nbconvert_exporter": "python",
   "pygments_lexer": "ipython3",
   "version": "3.12.3"
  }
 },
 "nbformat": 4,
 "nbformat_minor": 2
}
